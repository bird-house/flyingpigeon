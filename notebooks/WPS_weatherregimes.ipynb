{
 "cells": [
  {
   "cell_type": "code",
   "execution_count": 1,
   "metadata": {
    "collapsed": false
   },
   "outputs": [],
   "source": [
    "from os import listdir, system, path\n",
    "\n",
    "\"\"\"Python WPS execute\"\"\"\n",
    "from owslib.wps import WebProcessingService, monitorExecution, printInputOutput\n",
    "#wps_url = \"http://birdhouse-lsce.extra.cea.fr:8093/wps\"\n",
    "wps_url = \"http://localhost:8093/wps\"\n",
    "wps = WebProcessingService(url=wps_url, verbose=False)"
   ]
  },
  {
   "cell_type": "code",
   "execution_count": 2,
   "metadata": {
    "collapsed": false
   },
   "outputs": [
    {
     "name": "stdout",
     "output_type": "stream",
     "text": [
      "Flyingpigeon\n",
      "subset_countries : \t Returns only the selected polygon for each input dataset\n",
      "subset_continents : \t Returns only the selected polygon for each input dataset\n",
      "subset_regionseurope : \t Returns only the selected polygon for each input dataset\n",
      "extractpoints : \t Extract Timeseries for specified coordinates from grid data\n",
      "indices_single : \t This process calculates climate indices based on one single input variable.\n",
      "indices_percentile : \t Calculation of climate indices based on one single input variable and based on percentils of a referece period.\n",
      "visualisation : \t Just testing a nice script to visualise some variables\n",
      "eobs_to_cordex : \t downloads EOBS data in adaped CORDEX format\n",
      "weatherregimes : \t Weather Regimes based on pressure patterns (kmean method)\n",
      "ensembleRobustness : \t Calculates the robustness as the ratio of noise to signal in an ensemle of timeseries\n",
      "analogs : \t Search for days with analog pressure pattern\n",
      "segetalflora : \t Species biodiversity of segetal flora. Imput files: variable:tas , domain: EUR-11 or EUR-44\n",
      "sdm : \t Species distribution model (SDM)\n",
      "fetch : \t This process downloads resources (limited to 50GB)             to the local file system of the birdhouse compute provider\n"
     ]
    }
   ],
   "source": [
    "print wps.identification.title\n",
    "\n",
    "for process in wps.processes:\n",
    "    print '%s : \\t %s' % (process.identifier, process.abstract)"
   ]
  },
  {
   "cell_type": "code",
   "execution_count": 3,
   "metadata": {
    "collapsed": false
   },
   "outputs": [
    {
     "name": "stdout",
     "output_type": "stream",
     "text": [
      " identifier=resources, title=NetCDF File, abstract=NetCDF File, data type=ComplexData\n",
      " Supported Value: mimeType=application/x-netcdf, encoding=None, schema=None\n",
      " Default Value: mimeType=application/x-netcdf, encoding=None, schema=None \n",
      " minOccurs=1, maxOccurs=500\n",
      "\n",
      "\n",
      " identifier=BBox, title=Region, abstract=coordinates to define the region: (minlon,maxlon,minlat,maxlat), data type=//www.w3.org/TR/xmlschema-2/#string\n",
      " Any value allowed\n",
      " Default Value: -80,50,22.5,70 \n",
      " minOccurs=0, maxOccurs=1\n",
      "\n",
      "\n",
      " identifier=time_region, title=Time region, abstract=Select the months to define the time region (None == whole year will be analysed), data type=//www.w3.org/TR/xmlschema-2/#string\n",
      " Allowed Value: 10,11,12,1,2,3\n",
      " Allowed Value: 4,5,6,7,8,9\n",
      " Allowed Value: 12,1,2\n",
      " Allowed Value: 3,4,5\n",
      " Allowed Value: 6,7,8\n",
      " Allowed Value: 9,10,11\n",
      " Allowed Value: None\n",
      " Default Value: 12,1,2 \n",
      " minOccurs=0, maxOccurs=1\n",
      "\n",
      "\n",
      " identifier=dateobsst, title=Start of period, abstract=Date to start analysing the observation data (if not set, the first date of the dataset will be taken), data type=//www.w3.org/TR/xmlschema-2/#string\n",
      " Any value allowed\n",
      " Default Value: 2013-01-01 \n",
      " minOccurs=0, maxOccurs=1\n",
      "\n",
      "\n",
      " identifier=dateobsen, title=End of period, abstract=Date to end analysing the observation data (if not set, the first date of the dataset will be taken), data type=//www.w3.org/TR/xmlschema-2/#string\n",
      " Any value allowed\n",
      " Default Value: 2014-12-31 \n",
      " minOccurs=0, maxOccurs=1\n",
      "\n",
      "\n",
      " identifier=observation, title=Observation Data, abstract=Choose an observation dataset for comparison, data type=//www.w3.org/TR/xmlschema-2/#string\n",
      " Allowed Value: NCEP\n",
      " Default Value: NCEP \n",
      " minOccurs=0, maxOccurs=1\n",
      "\n",
      "\n"
     ]
    }
   ],
   "source": [
    "p = wps.describeprocess(identifier='weatherregimes')\n",
    "for input in p.dataInputs:\n",
    "    printInputOutput(input)\n",
    "    print '\\n'"
   ]
  },
  {
   "cell_type": "code",
   "execution_count": 15,
   "metadata": {
    "collapsed": true
   },
   "outputs": [],
   "source": [
    "resources1 = 'http://portal.nersc.gov/pydap/20C_Reanalysis_version2c_ensemble/analysis/ps/ps_1851.nc'"
   ]
  },
  {
   "cell_type": "code",
   "execution_count": 25,
   "metadata": {
    "collapsed": false
   },
   "outputs": [],
   "source": [
    "execute = wps.execute(\n",
    "    identifier=\"weatherregimes\", \n",
    "    inputs=[('resources',resources1), (\"observation\",'NCEP'), ('BBox','-80,50,22.5,70')], async=True)"
   ]
  },
  {
   "cell_type": "code",
   "execution_count": 26,
   "metadata": {
    "collapsed": false
   },
   "outputs": [
    {
     "name": "stdout",
     "output_type": "stream",
     "text": [
      "ProcessSucceeded\n"
     ]
    }
   ],
   "source": [
    "monitorExecution(execute, sleepSecs=5)\n",
    "print execute.getStatus()"
   ]
  },
  {
   "cell_type": "code",
   "execution_count": 27,
   "metadata": {
    "collapsed": false
   },
   "outputs": [
    {
     "name": "stdout",
     "output_type": "stream",
     "text": [
      "http://localhost:8090/wpsoutputs/flyingpigeon/output_maps-b4970100-2672-11e6-9b0c-373a5ca36cb1.png\n",
      "http://localhost:8090/wpsoutputs/flyingpigeon/output_matrix-b4970100-2672-11e6-9b0c-373a5ca36cb1.png\n",
      "http://localhost:8090/wpsoutputs/flyingpigeon/output_clusters-b4970100-2672-11e6-9b0c-373a5ca36cb1.png\n",
      "http://localhost:8090/wpsoutputs/flyingpigeon/output_info-b4970100-2672-11e6-9b0c-373a5ca36cb1.tar\n"
     ]
    }
   ],
   "source": [
    "for o in execute.processOutputs:\n",
    "    print o.reference "
   ]
  },
  {
   "cell_type": "code",
   "execution_count": null,
   "metadata": {
    "collapsed": true
   },
   "outputs": [],
   "source": []
  }
 ],
 "metadata": {
  "kernelspec": {
   "display_name": "Python 2",
   "language": "python",
   "name": "python2"
  },
  "language_info": {
   "codemirror_mode": {
    "name": "ipython",
    "version": 2
   },
   "file_extension": ".py",
   "mimetype": "text/x-python",
   "name": "python",
   "nbconvert_exporter": "python",
   "pygments_lexer": "ipython2",
   "version": "2.7.11"
  }
 },
 "nbformat": 4,
 "nbformat_minor": 0
}
