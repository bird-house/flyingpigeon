{
 "cells": [
  {
   "cell_type": "markdown",
   "metadata": {},
   "source": [
    "Execute WPS icclim processes with PHYTHON "
   ]
  },
  {
   "cell_type": "code",
   "execution_count": 1,
   "metadata": {
    "collapsed": false
   },
   "outputs": [],
   "source": [
    "from owslib.wps import WebProcessingService, monitorExecution\n",
    "wps = WebProcessingService(url=\"http://localhost:8093/wps\", verbose=False, skip_caps=False)"
   ]
  },
  {
   "cell_type": "markdown",
   "metadata": {},
   "source": [
    "Explore some informations:"
   ]
  },
  {
   "cell_type": "code",
   "execution_count": 2,
   "metadata": {
    "collapsed": false
   },
   "outputs": [
    {
     "data": {
      "text/plain": [
       "'Flyingpigeon'"
      ]
     },
     "execution_count": 2,
     "metadata": {},
     "output_type": "execute_result"
    }
   ],
   "source": [
    "wps.identification.title"
   ]
  },
  {
   "cell_type": "code",
   "execution_count": 4,
   "metadata": {
    "collapsed": false
   },
   "outputs": [
    {
     "name": "stdout",
     "output_type": "stream",
     "text": [
      "visualisation \t : Just testing a nice script to visualise some variables \n",
      "sdm \t : Species distribution model (SDM) \n",
      "weatherregimes \t : Weather Regimes based on pressure patterns (kmean method) \n",
      "extractpoints \t : Extract Timeseries for specified coordinates from grid data \n",
      "segetalflora \t : Species biodiversity of segetal flora. Imput files: variable:tas , domain: EUR-11 or EUR-44 \n",
      "indices_single \t : This process calculates climate indices based on one single variable. \n",
      "indices_percentile \t : This process calculates climate indices based on one single variable and based on percentils of a referece period. \n",
      "subset_countries \t : This process returns only the given polygon from input netCDF files. \n",
      "eobs_to_cordex \t : downloads EOBS data in adaped CORDEX format \n",
      "ensembleRobustness \t : Calculates the robustness as the ratio of noise to signal in an ensemle of timeseries \n",
      "analogs \t : Search for days with analog pressure pattern \n",
      "fetch \t : This process downloads resources (limited to 50GB)             to the local file system of the birdhouse compute provider \n"
     ]
    }
   ],
   "source": [
    "for process in wps.processes:\n",
    "    print '%s \\t : %s '% (process.identifier, process.abstract) "
   ]
  },
  {
   "cell_type": "code",
   "execution_count": 5,
   "metadata": {
    "collapsed": true
   },
   "outputs": [],
   "source": [
    "resource = 'file:///homel/nhempel/data/cache/pywps/pr_EUR-44_MPI-M-MPI-ESM-LR_rcp85_r1i1p1_CLMcom-CCLM4-8-17_v1_day_20210101-20251231.nc'"
   ]
  },
  {
   "cell_type": "code",
   "execution_count": 6,
   "metadata": {
    "collapsed": false
   },
   "outputs": [
    {
     "name": "stdout",
     "output_type": "stream",
     "text": [
      "http://localhost:8090/wpsoutputs/flyingpigeon/output-c934795e-15e6-11e6-ad9e-d578c700e304.tar\n"
     ]
    }
   ],
   "source": [
    "execute = wps.execute(\n",
    "    identifier=\"indices_single\",\n",
    "    inputs=[\n",
    "    ('indices','PRCPTOT'),\n",
    "    ('groupings','yr'),\n",
    "    ('resource',resource ), \n",
    "    #('polygons','FRA'),\n",
    "    #('polygons','DEU')\n",
    "    ],\n",
    "    #outputs = [('logout', 'True'),('tarout', 'True') ,('anomaliesout', 'True') ]\n",
    "    )\n",
    "# check process if completed ...\n",
    "monitorExecution(execute, sleepSecs=5)\n",
    "\n",
    "o = execute.processOutputs[0]\n",
    "print o.reference"
   ]
  },
  {
   "cell_type": "code",
   "execution_count": null,
   "metadata": {
    "collapsed": true
   },
   "outputs": [],
   "source": []
  }
 ],
 "metadata": {
  "kernelspec": {
   "display_name": "Python 2",
   "language": "python",
   "name": "python2"
  },
  "language_info": {
   "codemirror_mode": {
    "name": "ipython",
    "version": 2
   },
   "file_extension": ".py",
   "mimetype": "text/x-python",
   "name": "python",
   "nbconvert_exporter": "python",
   "pygments_lexer": "ipython2",
   "version": "2.7.11"
  }
 },
 "nbformat": 4,
 "nbformat_minor": 0
}
