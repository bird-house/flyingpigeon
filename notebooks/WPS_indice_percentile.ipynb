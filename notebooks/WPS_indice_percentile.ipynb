{
 "cells": [
  {
   "cell_type": "code",
   "execution_count": 1,
   "metadata": {
    "collapsed": true
   },
   "outputs": [],
   "source": [
    "# define some input data locations\n",
    "\n",
    "from os.path import join\n",
    "path = '/home/nils/data/EUR-44'\n",
    "files = ['tas_EUR-44_ICHEC-EC-EARTH_historical_r12i1p1_SMHI-RCA4_v1_day_19710101-19751231.nc',\n",
    "            'tas_EUR-44_ICHEC-EC-EARTH_historical_r12i1p1_SMHI-RCA4_v1_day_19760101-19801231.nc',\n",
    "            'tas_EUR-44_ICHEC-EC-EARTH_historical_r12i1p1_SMHI-RCA4_v1_day_19810101-19851231.nc',\n",
    "            'tas_EUR-44_ICHEC-EC-EARTH_historical_r12i1p1_SMHI-RCA4_v1_day_19860101-19901231.nc',\n",
    "            'tas_EUR-44_ICHEC-EC-EARTH_historical_r12i1p1_SMHI-RCA4_v1_day_19910101-19951231.nc',\n",
    "            'tas_EUR-44_ICHEC-EC-EARTH_historical_r12i1p1_SMHI-RCA4_v1_day_19960101-20001231.nc',]\n",
    "resource = [ join(path,nc) for nc in files ]"
   ]
  },
  {
   "cell_type": "markdown",
   "metadata": {},
   "source": [
    "Execution with plain python (no birdhouse components included )"
   ]
  },
  {
   "cell_type": "code",
   "execution_count": 2,
   "metadata": {
    "collapsed": false
   },
   "outputs": [
    {
     "name": "stdout",
     "output_type": "stream",
     "text": [
      "/home/nils/sandbox/notebooks/ocgis_output/ocgis_output.nc\n"
     ]
    }
   ],
   "source": [
    "import icclim \n",
    "\n",
    "from ocgis import RequestDataset, OcgOperations, env\n",
    "from ocgis.contrib.library_icclim import IcclimTG90p\n",
    "\n",
    "env.OVERWRITE = True\n",
    "########################################################################################################################\n",
    "# Compute a custom percentile basis using ICCLIM. ######################################################################\n",
    "########################################################################################################################\n",
    "\n",
    "# Subset the input dataset to return the desired base period for the percentile basis.\n",
    "variable = 'tas'\n",
    "years = range(1971, 2001)\n",
    "time_region = {'year': years}\n",
    "\n",
    "rd = RequestDataset(uri=resource, variable=variable)\n",
    "field = rd.get()\n",
    "field.get_time_region(time_region)\n",
    "\n",
    "# Calculate the percentile basis. The data values must be a three-dimensional array.\n",
    "arr = field.variables[variable].value.squeeze()\n",
    "dt_arr = field.temporal.value_datetime\n",
    "percentile = 90\n",
    "window_width = 5\n",
    "percentile_dict = IcclimTG90p.get_percentile_dict(arr, dt_arr, percentile, window_width)\n",
    "\n",
    "calc = [{'func': 'icclim_TG90p', 'name': 'TG90p', 'kwds': {'percentile_dict': percentile_dict}}]\n",
    "calc_grouping = 'year'\n",
    "ops = OcgOperations(dataset=rd, calc=calc, calc_grouping=calc_grouping, output_format='nc')\n",
    "coll = ops.execute()\n",
    "print coll"
   ]
  },
  {
   "cell_type": "code",
   "execution_count": 3,
   "metadata": {
    "collapsed": true
   },
   "outputs": [],
   "source": [
    "from flyingpigeon import indices as ind"
   ]
  },
  {
   "cell_type": "code",
   "execution_count": 14,
   "metadata": {
    "collapsed": true
   },
   "outputs": [],
   "source": [
    "ind.calc_indice_percentile?"
   ]
  },
  {
   "cell_type": "code",
   "execution_count": 20,
   "metadata": {
    "collapsed": false
   },
   "outputs": [
    {
     "name": "stdout",
     "output_type": "stream",
     "text": [
      "['/home/nils/sandbox/notebooks/TG95p_EUR-44_ICHEC-EC-EARTH_historical_r12i1p1_SMHI-RCA4_v1_day_19710101-20001231.nc']\n"
     ]
    }
   ],
   "source": [
    "reload(ind)\n",
    "\n",
    "nc_indice = ind.calc_indice_percentile(resources=resource, variable='tas', indices='TG90p',\n",
    "                       period=(1980,1990), percentile=95, groupings='yr', prefix='test2', dir_output='/home/nils/tests')\n",
    "print nc_indice"
   ]
  },
  {
   "cell_type": "markdown",
   "metadata": {},
   "source": [
    "Execute WPS icclim processes with PHYTHON "
   ]
  },
  {
   "cell_type": "code",
   "execution_count": 21,
   "metadata": {
    "collapsed": false
   },
   "outputs": [],
   "source": [
    "from owslib.wps import WebProcessingService, monitorExecution\n",
    "wps = WebProcessingService(url=\"http://localhost:8093/wps\", verbose=False, skip_caps=False)"
   ]
  },
  {
   "cell_type": "markdown",
   "metadata": {},
   "source": [
    "Explore some informations:"
   ]
  },
  {
   "cell_type": "code",
   "execution_count": 22,
   "metadata": {
    "collapsed": false
   },
   "outputs": [
    {
     "data": {
      "text/plain": [
       "'Flyingpigeon'"
      ]
     },
     "execution_count": 22,
     "metadata": {},
     "output_type": "execute_result"
    }
   ],
   "source": [
    "wps.identification.title"
   ]
  },
  {
   "cell_type": "code",
   "execution_count": 23,
   "metadata": {
    "collapsed": false
   },
   "outputs": [],
   "source": [
    "for process in wps.processes:\n",
    "    process.identifier, process.title"
   ]
  },
  {
   "cell_type": "code",
   "execution_count": 24,
   "metadata": {
    "collapsed": false
   },
   "outputs": [
    {
     "name": "stdout",
     "output_type": "stream",
     "text": [
      "subset_continents \t : Returns only the selected polygon for each input dataset \n",
      "subset_countries \t : Returns only the selected polygon for each input dataset \n",
      "subset_regionseurope \t : Returns only the selected polygon for each input dataset \n",
      "extractpoints \t : Extract Timeseries for specified coordinates from grid data \n",
      "indices_single \t : This process calculates climate indices based on one single input variable. \n",
      "indices_percentile \t : Calculation of climate indices based on one single input variable and based on percentils of a referece period. \n",
      "weatherregimes_obs \t : Weather Regimes based on pressure patterns, fetching selected Realayses Datasets \n",
      "weatherregimes \t : Weather Regimes based on pressure patterns (kmean method) \n",
      "robustness \t : Calculates the robustness as the ratio of noise to signal in an ensemle of timeseries \n",
      "analogs \t : Search for days with analog pressure pattern \n",
      "segetalflora \t : Species biodiversity of segetal flora. Imput files: variable:tas , domain: EUR-11 or EUR-44 \n",
      "sdm_gbifsearch \t : Species distribution model for tree species based on GBIF presens/absence data and climate indices \n",
      "sdm_csv \t : Species distribution model for tree species based on GBIF presens/absence data and climate indices \n",
      "plot_timeseries \t : Plots of the filesmeans over time. Spagetti and uncertainty plot \n",
      "eobs_to_cordex \t : downloads EOBS data in adaped CORDEX format \n",
      "fetch \t : This process downloads resources (limited to 50GB)             to the local file system of the birdhouse compute provider \n"
     ]
    }
   ],
   "source": [
    "for process in wps.processes:\n",
    "    print '%s \\t : %s '% (process.identifier, process.abstract) "
   ]
  },
  {
   "cell_type": "code",
   "execution_count": 27,
   "metadata": {
    "collapsed": false
   },
   "outputs": [
    {
     "name": "stdout",
     "output_type": "stream",
     "text": [
      " owslib.wps.WPSException : {'locator': 'None', 'code': 'NoApplicableCode', 'text': \"[Errno 2] No such file or directory: './pywpsInputFwqJnh.base64'\"}\n"
     ]
    },
    {
     "ename": "IndexError",
     "evalue": "list index out of range",
     "output_type": "error",
     "traceback": [
      "\u001b[1;31m---------------------------------------------------------------------------\u001b[0m",
      "\u001b[1;31mIndexError\u001b[0m                                Traceback (most recent call last)",
      "\u001b[1;32m<ipython-input-27-a266a41b16ac>\u001b[0m in \u001b[0;36m<module>\u001b[1;34m()\u001b[0m\n\u001b[0;32m     16\u001b[0m \u001b[0mmonitorExecution\u001b[0m\u001b[1;33m(\u001b[0m\u001b[0mexecute\u001b[0m\u001b[1;33m,\u001b[0m \u001b[0msleepSecs\u001b[0m\u001b[1;33m=\u001b[0m\u001b[1;36m5\u001b[0m\u001b[1;33m)\u001b[0m\u001b[1;33m\u001b[0m\u001b[0m\n\u001b[0;32m     17\u001b[0m \u001b[1;33m\u001b[0m\u001b[0m\n\u001b[1;32m---> 18\u001b[1;33m \u001b[0mo\u001b[0m \u001b[1;33m=\u001b[0m \u001b[0mexecute\u001b[0m\u001b[1;33m.\u001b[0m\u001b[0mprocessOutputs\u001b[0m\u001b[1;33m[\u001b[0m\u001b[1;36m0\u001b[0m\u001b[1;33m]\u001b[0m\u001b[1;33m\u001b[0m\u001b[0m\n\u001b[0m\u001b[0;32m     19\u001b[0m \u001b[1;32mprint\u001b[0m \u001b[0mo\u001b[0m\u001b[1;33m.\u001b[0m\u001b[0mreference\u001b[0m\u001b[1;33m\u001b[0m\u001b[0m\n",
      "\u001b[1;31mIndexError\u001b[0m: list index out of range"
     ]
    }
   ],
   "source": [
    "execute = wps.execute(\n",
    "    identifier=\"indices_percentile\",\n",
    "    inputs=[\n",
    "    ('indices','TG90p'),\n",
    "    ('groupings','yr'),\n",
    "    ('resource',resource[0]),\n",
    "    ('resource',resource[1]),\n",
    "    ('resource',resource[2]),\n",
    "    ('resource',resource[3]),\n",
    "    ('resource',resource[4]),\n",
    "    ('resource',resource[5]),\n",
    "    ], async=True\n",
    "    )\n",
    "# check process if completed ...\n",
    "\n",
    "monitorExecution(execute, sleepSecs=5)\n",
    "o = execute.processOutputs[0]\n",
    "print o.reference"
   ]
  },
  {
   "cell_type": "code",
   "execution_count": null,
   "metadata": {
    "collapsed": false
   },
   "outputs": [],
   "source": []
  },
  {
   "cell_type": "code",
   "execution_count": null,
   "metadata": {
    "collapsed": true
   },
   "outputs": [],
   "source": []
  }
 ],
 "metadata": {
  "kernelspec": {
   "display_name": "Python 2",
   "language": "python",
   "name": "python2"
  },
  "language_info": {
   "codemirror_mode": {
    "name": "ipython",
    "version": 2
   },
   "file_extension": ".py",
   "mimetype": "text/x-python",
   "name": "python",
   "nbconvert_exporter": "python",
   "pygments_lexer": "ipython2",
   "version": "2.7.11"
  }
 },
 "nbformat": 4,
 "nbformat_minor": 0
}
