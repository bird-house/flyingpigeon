{
 "cells": [
  {
   "cell_type": "code",
   "execution_count": 1,
   "metadata": {
    "collapsed": false
   },
   "outputs": [],
   "source": [
    "from os import listdir, system, path\n",
    "\n",
    "\"\"\"Python WPS execute\"\"\"\n",
    "from owslib.wps import WebProcessingService, monitorExecution, printInputOutput\n",
    "#wps_url = \"http://birdhouse-lsce.extra.cea.fr:8093/wps\"\n",
    "wps_url = \"http://localhost:8093/wps\"\n",
    "wps = WebProcessingService(url=wps_url, verbose=False)"
   ]
  },
  {
   "cell_type": "code",
   "execution_count": 2,
   "metadata": {
    "collapsed": false
   },
   "outputs": [
    {
     "name": "stdout",
     "output_type": "stream",
     "text": [
      "Flyingpigeon\n"
     ]
    }
   ],
   "source": [
    "print wps.identification.title\n",
    "\n",
    "# #for detailed information about the WPS flyingpigeon, uncomment the following lines \n",
    "#for process in wps.processes:\n",
    "#    print '%s : \\t %s' % (process.identifier, process.abstract)"
   ]
  },
  {
   "cell_type": "code",
   "execution_count": 3,
   "metadata": {
    "collapsed": false
   },
   "outputs": [],
   "source": [
    "#  #for detailed information about input arguments of an specific process: \n",
    "#p = wps.describeprocess(identifier='weatherregimes_R')\n",
    "#for input in p.dataInputs:\n",
    "#    printInputOutput(input)\n",
    "#    print '\\n'"
   ]
  },
  {
   "cell_type": "code",
   "execution_count": 4,
   "metadata": {
    "collapsed": false
   },
   "outputs": [],
   "source": [
    "execute = wps.execute(\n",
    "    identifier=\"weatherregimes_R\", \n",
    "    inputs=[('observation','NCEP_slp'), \n",
    "            ('BBox','-80,50,22.5,70'), \n",
    "            ('time_region','12,1,2'),\n",
    "            ('dateobsst','1970-01-01'),\n",
    "           ('dateobsen','2010-12-31')], \n",
    "        async=True)"
   ]
  },
  {
   "cell_type": "code",
   "execution_count": 5,
   "metadata": {
    "collapsed": false
   },
   "outputs": [
    {
     "name": "stdout",
     "output_type": "stream",
     "text": [
      "ProcessSucceeded\n"
     ]
    }
   ],
   "source": [
    "monitorExecution(execute, sleepSecs=5)\n",
    "print execute.getStatus()"
   ]
  },
  {
   "cell_type": "code",
   "execution_count": 6,
   "metadata": {
    "collapsed": false
   },
   "outputs": [
    {
     "name": "stdout",
     "output_type": "stream",
     "text": [
      "http://localhost:8090/wpsoutputs/flyingpigeon/Routput_graphic-4d6872d0-2fbd-11e6-98e8-f72bcdaec52c.pdf\n"
     ]
    }
   ],
   "source": [
    "for o in execute.processOutputs:\n",
    "    print o.reference "
   ]
  },
  {
   "cell_type": "code",
   "execution_count": null,
   "metadata": {
    "collapsed": true
   },
   "outputs": [],
   "source": []
  }
 ],
 "metadata": {
  "kernelspec": {
   "display_name": "Python 2",
   "language": "python",
   "name": "python2"
  },
  "language_info": {
   "codemirror_mode": {
    "name": "ipython",
    "version": 2
   },
   "file_extension": ".py",
   "mimetype": "text/x-python",
   "name": "python",
   "nbconvert_exporter": "python",
   "pygments_lexer": "ipython2",
   "version": "2.7.11"
  }
 },
 "nbformat": 4,
 "nbformat_minor": 0
}
