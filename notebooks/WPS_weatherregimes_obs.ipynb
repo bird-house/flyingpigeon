{
 "cells": [
  {
   "cell_type": "code",
   "execution_count": 2,
   "metadata": {
    "collapsed": false
   },
   "outputs": [],
   "source": [
    "from os import listdir, system, path\n",
    "\n",
    "\"\"\"Python WPS execute\"\"\"\n",
    "from owslib.wps import WebProcessingService, monitorExecution, printInputOutput\n",
    "wps_url = \"http://birdhouse-lsce.extra.cea.fr:8093/wps\"\n",
    "#wps_url = \"http://localhost:8093/wps\"\n",
    "wps = WebProcessingService(url=wps_url, verbose=False)"
   ]
  },
  {
   "cell_type": "code",
   "execution_count": 3,
   "metadata": {
    "collapsed": false
   },
   "outputs": [
    {
     "name": "stdout",
     "output_type": "stream",
     "text": [
      "Flyingpigeon\n"
     ]
    }
   ],
   "source": [
    "print wps.identification.title\n",
    "\n",
    "#for process in wps.processes:\n",
    "#    print '%s : \\t %s' % (process.identifier, process.abstract)"
   ]
  },
  {
   "cell_type": "code",
   "execution_count": 4,
   "metadata": {
    "collapsed": false
   },
   "outputs": [
    {
     "name": "stdout",
     "output_type": "stream",
     "text": [
      " identifier=BBox, title=Region, abstract=coordinates to define the region: (minlon,maxlon,minlat,maxlat), data type=//www.w3.org/TR/xmlschema-2/#string\n",
      " Any value allowed\n",
      " Default Value: -80,50,22.5,70 \n",
      " minOccurs=0, maxOccurs=1\n",
      "\n",
      "\n",
      " identifier=time_region, title=Time region, abstract=Select the months to define the time region (None == whole year will be analysed), data type=//www.w3.org/TR/xmlschema-2/#string\n",
      " Allowed Value: 10,11,12,1,2,3\n",
      " Allowed Value: 4,5,6,7,8,9\n",
      " Allowed Value: 12,1,2\n",
      " Allowed Value: 3,4,5\n",
      " Allowed Value: 6,7,8\n",
      " Allowed Value: 9,10,11\n",
      " Allowed Value: None\n",
      " Default Value: 12,1,2 \n",
      " minOccurs=0, maxOccurs=1\n",
      "\n",
      "\n",
      " identifier=dateobsst, title=Start of period, abstract=Date to start analysing the observation data (if not set, the first date of the dataset will be taken), data type=//www.w3.org/TR/xmlschema-2/#string\n",
      " Any value allowed\n",
      " Default Value: 2010-01-01 \n",
      " minOccurs=0, maxOccurs=1\n",
      "\n",
      "\n",
      " identifier=dateobsen, title=End of period, abstract=Date to end analysing the observation data (if not set, the first date of the dataset will be taken), data type=//www.w3.org/TR/xmlschema-2/#string\n",
      " Any value allowed\n",
      " Default Value: 2014-12-31 \n",
      " minOccurs=0, maxOccurs=1\n",
      "\n",
      "\n",
      " identifier=observation, title=Observation Data, abstract=Choose an observation dataset for comparison, data type=//www.w3.org/TR/xmlschema-2/#string\n",
      " Allowed Value: NCEP_slp\n",
      " Allowed Value: NCEP_z1000\n",
      " Allowed Value: NCEP_z925\n",
      " Allowed Value: NCEP_z850\n",
      " Allowed Value: NCEP_z700\n",
      " Allowed Value: NCEP_z600\n",
      " Allowed Value: NCEP_z500\n",
      " Allowed Value: NCEP_z400\n",
      " Allowed Value: NCEP_z300\n",
      " Allowed Value: NCEP_z250\n",
      " Allowed Value: NCEP_z200\n",
      " Allowed Value: NCEP_z150\n",
      " Allowed Value: NCEP_z100\n",
      " Allowed Value: NCEP_z70\n",
      " Allowed Value: NCEP_z50\n",
      " Allowed Value: NCEP_z30\n",
      " Allowed Value: NCEP_z20\n",
      " Allowed Value: NCEP_z10\n",
      " Default Value: NCEP_slp \n",
      " minOccurs=0, maxOccurs=1\n",
      "\n",
      "\n"
     ]
    }
   ],
   "source": [
    "p = wps.describeprocess(identifier='weatherregimes_obs')\n",
    "for input in p.dataInputs:\n",
    "    printInputOutput(input)\n",
    "    print '\\n'"
   ]
  },
  {
   "cell_type": "code",
   "execution_count": 6,
   "metadata": {
    "collapsed": false
   },
   "outputs": [],
   "source": [
    "execute = wps.execute(\n",
    "    identifier=\"weatherregimes_obs\", \n",
    "    inputs=[('observation','NCEP_slp'), \n",
    "            ('BBox','-80,50,22.5,70'), \n",
    "            ('time_region','12,1,2'),\n",
    "            ('dateobsst','2010-01-01'),\n",
    "           ('dateobsen','2014-12-31')], \n",
    "        async=True)"
   ]
  },
  {
   "cell_type": "code",
   "execution_count": 6,
   "metadata": {
    "collapsed": false
   },
   "outputs": [
    {
     "name": "stdout",
     "output_type": "stream",
     "text": [
      " owslib.wps.WPSException : {'locator': 'None', 'code': 'NoApplicableCode', 'text': 'Failed to execute WPS process [weatherregimes_obs]: failed to subset dataset list index out of range'}\n",
      "ProcessFailed\n"
     ]
    }
   ],
   "source": [
    "monitorExecution(execute, sleepSecs=5)\n",
    "print execute.getStatus()"
   ]
  },
  {
   "cell_type": "code",
   "execution_count": 7,
   "metadata": {
    "collapsed": false
   },
   "outputs": [
    {
     "name": "stdout",
     "output_type": "stream",
     "text": [
      "http://localhost:8090/wpsoutputs/flyingpigeon/output_maps-709c41c2-2730-11e6-b6d5-a3e4fb53ba02.png\n",
      "http://localhost:8090/wpsoutputs/flyingpigeon/output_info-709c41c2-2730-11e6-b6d5-a3e4fb53ba02.tar\n",
      "http://localhost:8090/wpsoutputs/flyingpigeon/output_clusters-709c41c2-2730-11e6-b6d5-a3e4fb53ba02.png\n"
     ]
    }
   ],
   "source": [
    "for o in execute.processOutputs:\n",
    "    print o.reference "
   ]
  },
  {
   "cell_type": "code",
   "execution_count": null,
   "metadata": {
    "collapsed": true
   },
   "outputs": [],
   "source": []
  }
 ],
 "metadata": {
  "kernelspec": {
   "display_name": "Python 2",
   "language": "python",
   "name": "python2"
  },
  "language_info": {
   "codemirror_mode": {
    "name": "ipython",
    "version": 2
   },
   "file_extension": ".py",
   "mimetype": "text/x-python",
   "name": "python",
   "nbconvert_exporter": "python",
   "pygments_lexer": "ipython2",
   "version": "2.7.11"
  }
 },
 "nbformat": 4,
 "nbformat_minor": 0
}
