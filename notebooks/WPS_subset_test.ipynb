{
 "cells": [
  {
   "cell_type": "markdown",
   "metadata": {},
   "source": [
    "## run request with owslib"
   ]
  },
  {
   "cell_type": "code",
   "execution_count": 1,
   "metadata": {
    "collapsed": true
   },
   "outputs": [],
   "source": [
    "from owslib.wps import WebProcessingService, monitorExecution, printInputOutput"
   ]
  },
  {
   "cell_type": "code",
   "execution_count": 2,
   "metadata": {
    "collapsed": false
   },
   "outputs": [],
   "source": [
    "wps_url = \"http://localhost:8093/wps\"\n",
    "#wps_url = \"http://birdhouse-lsce.extra.cea.fr:8093/wps\"\n",
    "wps = WebProcessingService(url=wps_url, verbose=False)"
   ]
  },
  {
   "cell_type": "code",
   "execution_count": 3,
   "metadata": {
    "collapsed": false
   },
   "outputs": [
    {
     "name": "stdout",
     "output_type": "stream",
     "text": [
      "visualisation : \t Just testing a nice script to visualise some variables\n",
      "extractpoints : \t Extract Timeseries for specified coordinates from grid data\n",
      "segetalflora : \t Species biodiversity of segetal flora. Imput files: variable:tas , domain: EUR-11 or EUR-44\n",
      "indices_single : \t This process calculates climate indices based on one single variable.\n",
      "subset_countries : \t This process returns only the given polygon from input netCDF files.\n",
      "eobs_to_cordex : \t downloads EOBS data in adaped CORDEX format\n",
      "ensembleRobustness : \t Calculates the robustness as the ratio of noise to signal in an ensemle of timeseries\n",
      "analogs : \t Search for days with analog pressure pattern\n"
     ]
    }
   ],
   "source": [
    "for process in wps.processes:\n",
    "    print '%s : \\t %s' % (process.identifier, process.abstract, )"
   ]
  },
  {
   "cell_type": "code",
   "execution_count": 9,
   "metadata": {
    "collapsed": false,
    "scrolled": true
   },
   "outputs": [
    {
     "name": "stdout",
     "output_type": "stream",
     "text": [
      " identifier=resource, title=Resource, abstract=NetCDF File, data type=ComplexData\n",
      " Supported Value: mimeType=application/x-netcdf, encoding=None, schema=None\n",
      " Default Value: mimeType=application/x-netcdf, encoding=None, schema=None \n",
      " minOccurs=1, maxOccurs=1000\n",
      "\n",
      "\n",
      " identifier=region, title=Region, abstract=None, data type=//www.w3.org/TR/xmlschema-2/#string\n",
      " Allowed Value: ABW\n",
      " Allowed Value: AFG\n",
      " Allowed Value: AGO\n",
      " Allowed Value: ALB\n",
      " Allowed Value: ALD\n",
      " Allowed Value: AND\n",
      " Allowed Value: ARE\n",
      " Allowed Value: ARG\n",
      " Allowed Value: ARM\n",
      " Allowed Value: ASM\n",
      " Allowed Value: ATA\n",
      " Allowed Value: ATF\n",
      " Allowed Value: ATG\n",
      " Allowed Value: AUS\n",
      " Allowed Value: AUT\n",
      " Allowed Value: AZE\n",
      " Allowed Value: BDI\n",
      " Allowed Value: BEL\n",
      " Allowed Value: BEN\n",
      " Allowed Value: BFA\n",
      " Allowed Value: BGD\n",
      " Allowed Value: BGR\n",
      " Allowed Value: BHR\n",
      " Allowed Value: BHS\n",
      " Allowed Value: BIH\n",
      " Allowed Value: BLR\n",
      " Allowed Value: BLZ\n",
      " Allowed Value: BOL\n",
      " Allowed Value: BRA\n",
      " Allowed Value: BRB\n",
      " Allowed Value: BRN\n",
      " Allowed Value: BTN\n",
      " Allowed Value: BWA\n",
      " Allowed Value: CAF\n",
      " Allowed Value: CAN\n",
      " Allowed Value: CHE\n",
      " Allowed Value: CHL\n",
      " Allowed Value: CHN\n",
      " Allowed Value: CIV\n",
      " Allowed Value: CMR\n",
      " Allowed Value: CNM\n",
      " Allowed Value: COD\n",
      " Allowed Value: COG\n",
      " Allowed Value: COL\n",
      " Allowed Value: COM\n",
      " Allowed Value: CPV\n",
      " Allowed Value: CRI\n",
      " Allowed Value: CUB\n",
      " Allowed Value: CUW\n",
      " Allowed Value: CYM\n",
      " Allowed Value: CYN\n",
      " Allowed Value: CYP\n",
      " Allowed Value: CZE\n",
      " Allowed Value: DEU\n",
      " Allowed Value: DJI\n",
      " Allowed Value: DMA\n",
      " Allowed Value: DNK\n",
      " Allowed Value: DOM\n",
      " Allowed Value: DZA\n",
      " Allowed Value: ECU\n",
      " Allowed Value: EGY\n",
      " Allowed Value: ERI\n",
      " Allowed Value: ESB\n",
      " Allowed Value: ESP\n",
      " Allowed Value: EST\n",
      " Allowed Value: ETH\n",
      " Allowed Value: FIN\n",
      " Allowed Value: FJI\n",
      " Allowed Value: FLK\n",
      " Allowed Value: FRA\n",
      " Allowed Value: FRO\n",
      " Allowed Value: FSM\n",
      " Allowed Value: GAB\n",
      " Allowed Value: GBR\n",
      " Allowed Value: GEO\n",
      " Allowed Value: GHA\n",
      " Allowed Value: GIN\n",
      " Allowed Value: GMB\n",
      " Allowed Value: GNB\n",
      " Allowed Value: GNQ\n",
      " Allowed Value: GRC\n",
      " Allowed Value: GRD\n",
      " Allowed Value: GRL\n",
      " Allowed Value: GTM\n",
      " Allowed Value: GUM\n",
      " Allowed Value: GUY\n",
      " Allowed Value: HKG\n",
      " Allowed Value: HMD\n",
      " Allowed Value: HND\n",
      " Allowed Value: HRV\n",
      " Allowed Value: HTI\n",
      " Allowed Value: HUN\n",
      " Allowed Value: IDN\n",
      " Allowed Value: IMN\n",
      " Allowed Value: IND\n",
      " Allowed Value: IRL\n",
      " Allowed Value: IRN\n",
      " Allowed Value: IRQ\n",
      " Allowed Value: ISL\n",
      " Allowed Value: ISR\n",
      " Allowed Value: ITA\n",
      " Allowed Value: JAM\n",
      " Allowed Value: JOR\n",
      " Allowed Value: JPN\n",
      " Allowed Value: KAB\n",
      " Allowed Value: KAS\n",
      " Allowed Value: KAZ\n",
      " Allowed Value: KEN\n",
      " Allowed Value: KGZ\n",
      " Allowed Value: KHM\n",
      " Allowed Value: KIR\n",
      " Allowed Value: KNA\n",
      " Allowed Value: KOR\n",
      " Allowed Value: KOS\n",
      " Allowed Value: KWT\n",
      " Allowed Value: LAO\n",
      " Allowed Value: LBN\n",
      " Allowed Value: LBR\n",
      " Allowed Value: LBY\n",
      " Allowed Value: LCA\n",
      " Allowed Value: LIE\n",
      " Allowed Value: LKA\n",
      " Allowed Value: LSO\n",
      " Allowed Value: LTU\n",
      " Allowed Value: LUX\n",
      " Allowed Value: LVA\n",
      " Allowed Value: MAR\n",
      " Allowed Value: MDA\n",
      " Allowed Value: MDG\n",
      " Allowed Value: MEX\n",
      " Allowed Value: MKD\n",
      " Allowed Value: MLI\n",
      " Allowed Value: MLT\n",
      " Allowed Value: MMR\n",
      " Allowed Value: MNE\n",
      " Allowed Value: MNG\n",
      " Allowed Value: MNP\n",
      " Allowed Value: MOZ\n",
      " Allowed Value: MRT\n",
      " Allowed Value: MUS\n",
      " Allowed Value: MWI\n",
      " Allowed Value: MYS\n",
      " Allowed Value: NAM\n",
      " Allowed Value: NCL\n",
      " Allowed Value: NER\n",
      " Allowed Value: NGA\n",
      " Allowed Value: NIC\n",
      " Allowed Value: NIU\n",
      " Allowed Value: NLD\n",
      " Allowed Value: NOR\n",
      " Allowed Value: NPL\n",
      " Allowed Value: NZL\n",
      " Allowed Value: OMN\n",
      " Allowed Value: PAK\n",
      " Allowed Value: PAN\n",
      " Allowed Value: PER\n",
      " Allowed Value: PHL\n",
      " Allowed Value: PLW\n",
      " Allowed Value: PNG\n",
      " Allowed Value: POL\n",
      " Allowed Value: PRI\n",
      " Allowed Value: PRK\n",
      " Allowed Value: PRT\n",
      " Allowed Value: PRY\n",
      " Allowed Value: PSX\n",
      " Allowed Value: PYF\n",
      " Allowed Value: QAT\n",
      " Allowed Value: ROU\n",
      " Allowed Value: RUS\n",
      " Allowed Value: RWA\n",
      " Allowed Value: SAH\n",
      " Allowed Value: SAU\n",
      " Allowed Value: SDN\n",
      " Allowed Value: SDS\n",
      " Allowed Value: SEN\n",
      " Allowed Value: SGP\n",
      " Allowed Value: SGS\n",
      " Allowed Value: SHN\n",
      " Allowed Value: SLB\n",
      " Allowed Value: SLE\n",
      " Allowed Value: SLV\n",
      " Allowed Value: SOL\n",
      " Allowed Value: SOM\n",
      " Allowed Value: SPM\n",
      " Allowed Value: SRB\n",
      " Allowed Value: STP\n",
      " Allowed Value: SUR\n",
      " Allowed Value: SVK\n",
      " Allowed Value: SVN\n",
      " Allowed Value: SWE\n",
      " Allowed Value: SWZ\n",
      " Allowed Value: SYR\n",
      " Allowed Value: TCD\n",
      " Allowed Value: TGO\n",
      " Allowed Value: THA\n",
      " Allowed Value: TJK\n",
      " Allowed Value: TKM\n",
      " Allowed Value: TLS\n",
      " Allowed Value: TON\n",
      " Allowed Value: TTO\n",
      " Allowed Value: TUN\n",
      " Allowed Value: TUR\n",
      " Allowed Value: TWN\n",
      " Allowed Value: TZA\n",
      " Allowed Value: UGA\n",
      " Allowed Value: UKR\n",
      " Allowed Value: URY\n",
      " Allowed Value: USA\n",
      " Allowed Value: UZB\n",
      " Allowed Value: VCT\n",
      " Allowed Value: VEN\n",
      " Allowed Value: VIR\n",
      " Allowed Value: VNM\n",
      " Allowed Value: VUT\n",
      " Allowed Value: WSB\n",
      " Allowed Value: WSM\n",
      " Allowed Value: YEM\n",
      " Allowed Value: ZAF\n",
      " Allowed Value: ZMB\n",
      " Allowed Value: ZWE\n",
      " Default Value: DEU \n",
      " minOccurs=0, maxOccurs=220\n",
      "\n",
      "\n",
      " identifier=dimension_map, title=Dimension Map, abstract=if not ordered in lon/lat a dimension map has to be provided, data type=//www.w3.org/TR/xmlschema-2/#string\n",
      " Any value allowed\n",
      " Default Value: None \n",
      " minOccurs=0, maxOccurs=1\n",
      "\n",
      "\n",
      " identifier=mosaik, title=Mosaik, abstract=If Mosaik is checked, selected polygons will be merged to one Mosaik for each input file, data type=//www.w3.org/TR/xmlschema-2/#boolean\n",
      " Any value allowed\n",
      " Default Value: False \n",
      " minOccurs=0, maxOccurs=1\n",
      "\n",
      "\n"
     ]
    }
   ],
   "source": [
    "p = wps.describeprocess(identifier='subset_countries')\n",
    "for input in p.dataInputs:\n",
    "    printInputOutput(input)\n",
    "    print '\\n'"
   ]
  },
  {
   "cell_type": "code",
   "execution_count": 4,
   "metadata": {
    "collapsed": true
   },
   "outputs": [],
   "source": [
    "in_file1 = 'file:///home/estimr1/EUCLEIA/indices/RX5day/DJF/RX5day_DJF_HadGEM3-A-N216_historical_r1i1p1_19600101-20131230.nc'\n",
    "in_file2 = 'file:///home/estimr1/EUCLEIA/indices/RX5day/DJF/RX5day_DJF_HadGEM3-A-N216_historical_r1i1p2_19600101-20131230.nc'\n",
    "\n",
    "#in_file1 = 'file:///home/pingu/.conda/envs/birdhouse/var/lib/cache/pywps/esgf1.dkrz.de/thredds/fileServer/cordex/cordex/output/EUR-44/MPI-CSC/MPI-M-MPI-ESM-LR/historical/r1i1p1/MPI-CSC-REMO2009/v1/mon/tasmax/v20150609/tasmax_EUR-44_MPI-M-MPI-ESM-LR_historical_r1i1p1_MPI-CSC-REMO2009_v1_mon_199101-200012.nc'\n",
    "#in_file2 = 'file:///home/pingu/.conda/envs/birdhouse/var/lib/cache/pywps/esgf1.dkrz.de/thredds/fileServer/cordex/cordex/output/EUR-44/MPI-CSC/MPI-M-MPI-ESM-LR/historical/r1i1p1/MPI-CSC-REMO2009/v1/mon/tasmax/v20150609/tasmax_EUR-44_MPI-M-MPI-ESM-LR_historical_r1i1p1_MPI-CSC-REMO2009_v1_mon_200101-200512.nc'"
   ]
  },
  {
   "cell_type": "code",
   "execution_count": 6,
   "metadata": {
    "collapsed": false
   },
   "outputs": [
    {
     "name": "stdout",
     "output_type": "stream",
     "text": [
      "ProcessSucceeded\n",
      "http://localhost:8090/wpsoutputs/flyingpigeon/output-5a18a28e-d405-11e5-8a28-9d33cb3eae7f.tar\n"
     ]
    }
   ],
   "source": [
    "execute = wps.execute(\n",
    "    identifier=\"subset_countries\", #indices_clipping\",\n",
    "    inputs=[\n",
    "    (\"resource\",in_file1),\n",
    "    (\"resource\",in_file2),\n",
    "    (\"region\",'POL'),\n",
    "    (\"region\",'DEU'),\n",
    "    (\"mosaik\",'True'),  \n",
    "           ])\n",
    "\n",
    "monitorExecution(execute, sleepSecs=5)\n",
    "\n",
    "print execute.getStatus()\n",
    "\n",
    "for o in execute.processOutputs:\n",
    "    print o.reference\n",
    "    "
   ]
  },
  {
   "cell_type": "code",
   "execution_count": 4,
   "metadata": {
    "collapsed": true
   },
   "outputs": [],
   "source": [
    "# for rotated grids \n",
    "\n",
    "rot_file1 = 'file:///home/starmip/tnoel/BCCORDEX/TasAdjust/tasAdjust_EUR-11_MPI-M-MPI-ESM-LR_rcp85_r1i1p1_SMHI-RCA4-LSCE-IPSL-CDFt-EOBS10-1971-2005_day_20860101-20901231.nc' \n",
    "rot_file2 = 'file:///home/starmip/tnoel/BCCORDEX/TasAdjust/tasAdjust_EUR-11_MPI-M-MPI-ESM-LR_rcp85_r1i1p1_SMHI-RCA4-LSCE-IPSL-CDFt-EOBS10-1971-2005_day_20910101-20951231.nc'\n",
    "rot_file3 = 'file:///home/starmip/tnoel/BCCORDEX/TasAdjust/tasAdjust_EUR-11_MPI-M-MPI-ESM-LR_rcp85_r1i1p1_SMHI-RCA4-LSCE-IPSL-CDFt-EOBS10-1971-2005_day_20960101-21001231.nc'"
   ]
  },
  {
   "cell_type": "code",
   "execution_count": 5,
   "metadata": {
    "collapsed": true
   },
   "outputs": [],
   "source": [
    "# define a dimensinon_map: \n",
    "\n",
    "dimension_map = \"{'X': {'variable': 'lon', 'dimension': 'x', 'pos': 2}, 'Y': {'variable': 'lat', 'dimension': 'y', 'pos': 1}, 'T': {'variable': 'time', 'dimension': 'time', 'pos': 0 }}\"\n"
   ]
  },
  {
   "cell_type": "code",
   "execution_count": null,
   "metadata": {
    "collapsed": true
   },
   "outputs": [],
   "source": [
    "execute = wps.execute(\n",
    "    identifier=\"subset_countries\", #indices_clipping\",\n",
    "    inputs=[\n",
    "    (\"resource\",rot_file1),\n",
    "   # (\"resource\",rot_file2),\n",
    "   # (\"resource\",rot_file3),\n",
    "   # (\"region\",'POL'),\n",
    "    (\"region\",'DEU'),\n",
    "   # (\"mosaik\",'True'),\n",
    "    (\"dimension_map\", dimension_map),\n",
    "    (\"variable\",'tasAdjust')\n",
    "           ])\n",
    "\n",
    "monitorExecution(execute, sleepSecs=5)\n",
    "\n",
    "print execute.getStatus()\n",
    "\n",
    "for o in execute.processOutputs:\n",
    "    print o.reference\n",
    "    "
   ]
  },
  {
   "cell_type": "code",
   "execution_count": null,
   "metadata": {
    "collapsed": false
   },
   "outputs": [],
   "source": []
  },
  {
   "cell_type": "markdown",
   "metadata": {},
   "source": [
    "## run sync request with get parameters"
   ]
  },
  {
   "cell_type": "code",
   "execution_count": null,
   "metadata": {
    "collapsed": true
   },
   "outputs": [],
   "source": [
    "sync_req_url = \"{wps_url}?\" +\\\n",
    "    \"request=Execute\" +\\\n",
    "    \"&service=WPS\" +\\\n",
    "    \"&version=1.0.0\" +\\\n",
    "    \"&identifier=subset_countries\" +\\\n",
    "    \"&DataInputs=resource={resource1};resource={resource2};region={region}\" +\\\n",
    "    \"&storeExecuteResponse=false\" +\\\n",
    "    \"&status=false\""
   ]
  },
  {
   "cell_type": "code",
   "execution_count": null,
   "metadata": {
    "collapsed": false
   },
   "outputs": [],
   "source": [
    "url=sync_req_url.format(\n",
    "    wps_url=wps_url,\n",
    "    resource1=in_file1,\n",
    "    resource2=in_file2,\n",
    "    region='FRA')\n",
    "print url   "
   ]
  },
  {
   "cell_type": "code",
   "execution_count": null,
   "metadata": {
    "collapsed": false
   },
   "outputs": [],
   "source": [
    "import requests\n",
    "r = requests.get(url)\n",
    "print r.status_code\n",
    "print r.text"
   ]
  },
  {
   "cell_type": "markdown",
   "metadata": {},
   "source": [
    "## run async request with get parameters"
   ]
  },
  {
   "cell_type": "code",
   "execution_count": null,
   "metadata": {
    "collapsed": false
   },
   "outputs": [],
   "source": [
    "async_req_url = \"{wps_url}?\" +\\\n",
    "    \"request=Execute\" +\\\n",
    "    \"&service=WPS\" +\\\n",
    "    \"&version=1.0.0\" +\\\n",
    "    \"&identifier=subset_countries\" +\\\n",
    "    \"&DataInputs=resource={resource1};resource={resource2};region={region}\" +\\\n",
    "    \"&storeExecuteResponse=true\" +\\\n",
    "    \"&status=true\"\n",
    "    #"
   ]
  },
  {
   "cell_type": "code",
   "execution_count": null,
   "metadata": {
    "collapsed": false
   },
   "outputs": [],
   "source": [
    "url=async_req_url.format(\n",
    "    wps_url=wps_url,\n",
    "    resource1=in_file1,\n",
    "    resource2=in_file2,\n",
    "    region='FRA')\n",
    "print url   "
   ]
  },
  {
   "cell_type": "code",
   "execution_count": null,
   "metadata": {
    "collapsed": false
   },
   "outputs": [],
   "source": [
    "r = requests.get(url)\n",
    "from lxml import etree\n",
    "from io import BytesIO\n",
    "tree = etree.parse(BytesIO(r.content))\n",
    "#print etree.tostring(tree)\n",
    "status_url = tree.getroot().get(\"statusLocation\")\n",
    "print status_url"
   ]
  },
  {
   "cell_type": "code",
   "execution_count": null,
   "metadata": {
    "collapsed": false
   },
   "outputs": [],
   "source": [
    "r = requests.get(url)\n",
    "from lxml import etree\n",
    "from io import BytesIO\n",
    "tree = etree.parse(BytesIO(r.content))\n",
    "#print etree.tostring(tree)\n",
    "status_url = tree.getroot().get(\"statusLocation\")\n",
    "print status_url"
   ]
  },
  {
   "cell_type": "code",
   "execution_count": null,
   "metadata": {
    "collapsed": false
   },
   "outputs": [],
   "source": [
    "r = requests.get(status_url)\n",
    "print r.status_code\n",
    "print r.text"
   ]
  },
  {
   "cell_type": "code",
   "execution_count": null,
   "metadata": {
    "collapsed": true
   },
   "outputs": [],
   "source": [
    "status_url2 = status_url"
   ]
  },
  {
   "cell_type": "code",
   "execution_count": null,
   "metadata": {
    "collapsed": false
   },
   "outputs": [],
   "source": [
    "r = requests.get(status_url2)\n",
    "print r.status_code\n",
    "print r.text"
   ]
  },
  {
   "cell_type": "code",
   "execution_count": null,
   "metadata": {
    "collapsed": true
   },
   "outputs": [],
   "source": []
  }
 ],
 "metadata": {
  "kernelspec": {
   "display_name": "Python 2",
   "language": "python",
   "name": "python2"
  },
  "language_info": {
   "codemirror_mode": {
    "name": "ipython",
    "version": 2
   },
   "file_extension": ".py",
   "mimetype": "text/x-python",
   "name": "python",
   "nbconvert_exporter": "python",
   "pygments_lexer": "ipython2",
   "version": "2.7.11"
  }
 },
 "nbformat": 4,
 "nbformat_minor": 0
}
