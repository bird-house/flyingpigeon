{
 "cells": [
  {
   "cell_type": "code",
   "execution_count": 1,
   "metadata": {
    "collapsed": true
   },
   "outputs": [],
   "source": [
    "\"\"\"Python WPS execute\"\"\"\n",
    "from owslib.wps import WebProcessingService, monitorExecution, printInputOutput\n",
    "from os import system"
   ]
  },
  {
   "cell_type": "code",
   "execution_count": 3,
   "metadata": {
    "collapsed": false
   },
   "outputs": [],
   "source": [
    "#wps_url = \"http://birdhouse-lsce.extra.cea.fr:8093/wps\"\n",
    "wps_url = \"http://localhost:8093/wps\"\n",
    "wps = WebProcessingService(url=wps_url, verbose=False)"
   ]
  },
  {
   "cell_type": "code",
   "execution_count": 4,
   "metadata": {
    "collapsed": false
   },
   "outputs": [
    {
     "name": "stdout",
     "output_type": "stream",
     "text": [
      "Flyingpigeon:\n",
      "#############\n",
      "subset_countries : \t Returns only the selected polygon for each input dataset\n",
      "subset_continents : \t Returns only the selected polygon for each input dataset\n",
      "subset_regionseurope : \t Returns only the selected polygon for each input dataset\n",
      "extractpoints : \t Extract Timeseries for specified coordinates from grid data\n",
      "indices_single : \t This process calculates climate indices based on one single input variable.\n",
      "indices_percentile : \t Calculation of climate indices based on one single input variable and based on percentils of a referece period.\n",
      "visualisation : \t Just testing a nice script to visualise some variables\n",
      "eobs_to_cordex : \t downloads EOBS data in adaped CORDEX format\n",
      "weatherregimes : \t Weather Regimes based on pressure patterns (kmean method)\n",
      "ensembleRobustness : \t Calculates the robustness as the ratio of noise to signal in an ensemle of timeseries\n",
      "analogs : \t Search for days with analog pressure pattern\n",
      "segetalflora : \t Species biodiversity of segetal flora. Imput files: variable:tas , domain: EUR-11 or EUR-44\n",
      "sdm : \t Species distribution model (SDM)\n",
      "fetch : \t This process downloads resources (limited to 50GB)             to the local file system of the birdhouse compute provider\n"
     ]
    }
   ],
   "source": [
    "print wps.identification.title + ':'\n",
    "print '#############'\n",
    "for process in wps.processes:\n",
    "    print '%s : \\t %s' % (process.identifier, process.abstract)"
   ]
  },
  {
   "cell_type": "code",
   "execution_count": 5,
   "metadata": {
    "collapsed": false
   },
   "outputs": [
    {
     "name": "stdout",
     "output_type": "stream",
     "text": [
      " identifier=resource, title=Resource, abstract=URL to netCDF file, data type=ComplexData\n",
      " Supported Value: mimeType=application/x-netcdf, encoding=None, schema=None\n",
      " Default Value: mimeType=application/x-netcdf, encoding=None, schema=None \n",
      " minOccurs=0, maxOccurs=1000\n",
      "\n",
      "\n",
      " identifier=experiment, title=Data experiment, abstract=Choose the experiment (if 'None' is selected, provide a resource), data type=//www.w3.org/TR/xmlschema-2/#string\n",
      " Allowed Value: None\n",
      " Allowed Value: NCEP\n",
      " Default Value: NCEP \n",
      " minOccurs=0, maxOccurs=1\n",
      "\n",
      "\n",
      " identifier=region, title=Region, abstract=coordinates to define the region: (minlon,minlat,maxlon,maxlat), data type=//www.w3.org/TR/xmlschema-2/#string\n",
      " Any value allowed\n",
      " Default Value: -80,50,22.5,70 \n",
      " minOccurs=0, maxOccurs=1\n",
      "\n",
      "\n",
      " identifier=dateSt, title=Start date of analyse period, abstract=This is a Date: 2013-07-15, data type=//www.w3.org/TR/xmlschema-2/#string\n",
      " Any value allowed\n",
      " Default Value: 2013-07-15 \n",
      " minOccurs=0, maxOccurs=1\n",
      "\n",
      "\n",
      " identifier=dateEn, title=End date of analyse period, abstract=This is a Date: 2013-12-31, data type=//www.w3.org/TR/xmlschema-2/#string\n",
      " Any value allowed\n",
      " Default Value: 2014-12-31 \n",
      " minOccurs=0, maxOccurs=1\n",
      "\n",
      "\n",
      " identifier=refSt, title=Start reference period, abstract=Start YEAR of reference period, data type=//www.w3.org/TR/xmlschema-2/#string\n",
      " Any value allowed\n",
      " Default Value: 1955-01-01 \n",
      " minOccurs=0, maxOccurs=1\n",
      "\n",
      "\n",
      " identifier=refEn, title=End reference period, abstract=End YEAR of reference period, data type=//www.w3.org/TR/xmlschema-2/#string\n",
      " Any value allowed\n",
      " Default Value: 1957-12-31 \n",
      " minOccurs=0, maxOccurs=1\n",
      "\n",
      "\n",
      " identifier=normalize, title=normalisation, abstract=Normalize by substraction of annual cycle, data type=//www.w3.org/TR/xmlschema-2/#string\n",
      " Allowed Value: None\n",
      " Allowed Value: base\n",
      " Allowed Value: sim\n",
      " Allowed Value: own\n",
      " Default Value: base \n",
      " minOccurs=0, maxOccurs=1\n",
      "\n",
      "\n",
      " identifier=dist, title=Distance, abstract=Distance function to define analogues, data type=//www.w3.org/TR/xmlschema-2/#string\n",
      " Allowed Value: euclidean\n",
      " Allowed Value: mahalanobis\n",
      " Allowed Value: cosine\n",
      " Allowed Value: of\n",
      " Default Value: euclidean \n",
      " minOccurs=0, maxOccurs=1\n",
      "\n",
      "\n",
      " identifier=outformat, title=output file format, abstract=Choose the output format for the analog output file, data type=//www.w3.org/TR/xmlschema-2/#string\n",
      " Allowed Value: ascii\n",
      " Allowed Value: netCDF4\n",
      " Default Value: ascii \n",
      " minOccurs=0, maxOccurs=1\n",
      "\n",
      "\n",
      " identifier=timewin, title=Time window, abstract=Nr of days following the analog day, data type=//www.w3.org/TR/xmlschema-2/#integer\n",
      " Any value allowed\n",
      " Default Value: 30 \n",
      " minOccurs=0, maxOccurs=1\n",
      "\n",
      "\n",
      " identifier=variable, title=Variable, abstract=Variable name in resource, data type=//www.w3.org/TR/xmlschema-2/#string\n",
      " Any value allowed\n",
      " Default Value: slp \n",
      " minOccurs=0, maxOccurs=1\n",
      "\n",
      "\n"
     ]
    }
   ],
   "source": [
    "# print out some information for input argumnets\n",
    "p = wps.describeprocess(identifier='analogs')\n",
    "for input in p.dataInputs:\n",
    "    printInputOutput(input)\n",
    "    print '\\n'"
   ]
  },
  {
   "cell_type": "code",
   "execution_count": 6,
   "metadata": {
    "collapsed": true
   },
   "outputs": [],
   "source": [
    "wps.execute?"
   ]
  },
  {
   "cell_type": "code",
   "execution_count": 8,
   "metadata": {
    "collapsed": false
   },
   "outputs": [
    {
     "name": "stdout",
     "output_type": "stream",
     "text": [
      "ProcessSucceeded\n",
      "http://localhost:8090/wpsoutputs/flyingpigeon/analogs-1fde32e2-264d-11e6-8870-cffc4654e941.txt\n",
      "http://localhost:8090/wpsoutputs/flyingpigeon/config-1fde32e2-264d-11e6-8870-cffc4654e941.txt\n"
     ]
    }
   ],
   "source": [
    "from os.path import join\n",
    "\n",
    "execute = wps.execute(\n",
    "    identifier=\"analogs\", \n",
    "    inputs=[(\"dist\",'euclidean')], async=True)\n",
    "\n",
    "monitorExecution(execute, sleepSecs=5)\n",
    "\n",
    "print execute.getStatus()\n",
    "\n",
    "for o in execute.processOutputs:\n",
    "    print o.reference"
   ]
  },
  {
   "cell_type": "code",
   "execution_count": null,
   "metadata": {
    "collapsed": true
   },
   "outputs": [],
   "source": []
  },
  {
   "cell_type": "code",
   "execution_count": null,
   "metadata": {
    "collapsed": true
   },
   "outputs": [],
   "source": []
  }
 ],
 "metadata": {
  "kernelspec": {
   "display_name": "Python 2",
   "language": "python",
   "name": "python2"
  },
  "language_info": {
   "codemirror_mode": {
    "name": "ipython",
    "version": 2
   },
   "file_extension": ".py",
   "mimetype": "text/x-python",
   "name": "python",
   "nbconvert_exporter": "python",
   "pygments_lexer": "ipython2",
   "version": "2.7.11"
  }
 },
 "nbformat": 4,
 "nbformat_minor": 0
}
